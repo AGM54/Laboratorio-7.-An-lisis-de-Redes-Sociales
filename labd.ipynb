{
 "cells": [
  {
   "cell_type": "code",
   "execution_count": 6,
   "metadata": {},
   "outputs": [
    {
     "name": "stderr",
     "output_type": "stream",
     "text": [
      "[nltk_data] Downloading package punkt to\n",
      "[nltk_data]     C:\\Users\\marce\\AppData\\Roaming\\nltk_data...\n",
      "[nltk_data]   Package punkt is already up-to-date!\n"
     ]
    },
    {
     "data": {
      "text/plain": [
       "True"
      ]
     },
     "execution_count": 6,
     "metadata": {},
     "output_type": "execute_result"
    }
   ],
   "source": [
    "import nltk\n",
    "nltk.download('punkt')\n"
   ]
  },
  {
   "cell_type": "code",
   "execution_count": 3,
   "metadata": {},
   "outputs": [
    {
     "name": "stdout",
     "output_type": "stream",
     "text": [
      "Codificación detectada para traficogt.txt: UTF-16\n",
      "Codificación detectada para tioberny.txt: UTF-16\n",
      "Columnas de traficogt: Index(['{\"id\": 1834236045598056867, \"id_str\": \"1834236045598056867\", \"url\": \"https://x.com/traficogt/status/1834236045598056867\", \"date\": \"2024-09-12 14:22:06+00:00\", \"user\": {\"id\": 93938886, \"id_str\": \"93938886\", \"url\": \"https://x.com/traficogt\", \"username\": \"traficogt\", \"displayname\": \"traficoGT\", \"rawDescription\": \"Noticias de ciudad de Guatemala\", \"created\": \"2009-12-01 20:42:19+00:00\", \"followersCount\": 314368, \"friendsCount\": 137, \"statusesCount\": 52385, \"favouritesCount\": 3471, \"listedCount\": 291, \"mediaCount\": 1292, \"location\": \"Guatemala\", \"profileImageUrl\": \"https://pbs.twimg.com/profile_images/1782036597841530880/-tVuhOdK_normal.jpg\", \"profileBannerUrl\": null, \"protected\": null, \"verified\": false, \"blue\": false, \"blueType\": null, \"descriptionLinks\": [], \"pinnedIds\": [], \"_type\": \"snscrape.modules.twitter.User\"}, \"lang\": \"es\", \"rawContent\": \"Es comprensible la resoluci\\u00f3n... El ruso sabe de engrasar maquinaria.\", \"replyCount\": 0, \"retweetCount\": 0, \"likeCount\": 1, \"quoteCount\": 0, \"bookmarkedCount\": 0, \"conversationId\": 1834236045598056867, \"conversationIdStr\": \"1834236045598056867\", \"hashtags\": [], \"cashtags\": [], \"mentionedUsers\": [], \"links\": [], \"viewCount\": 393, \"retweetedTweet\": null, \"quotedTweet\": {\"id\": 1834029142565658846, \"id_str\": \"1834029142565658846\", \"url\": \"https://x.com/monymmorales/status/1834029142565658846\", \"date\": \"2024-09-12 00:39:56+00:00\", \"user\": {\"id\": 976875408, \"id_str\": \"976875408\", \"url\": \"https://x.com/monymmorales\", \"username\": \"monymmorales\", \"displayname\": \"Mony\", \"rawDescription\": \"Iglesia y estado son asunto separado.\\nCat\\u00f3lica \\n#SuMenteMeOlvid\\u00f3, pero su coraz\\u00f3n siempre me record\\u00f3.  \\n#Guatemala \\n#Donaci\\u00f3nDe\\u00d3rganos\\n\\n#GraciasPorEstar\", \"created\": \"2012-11-28 20:16:36+00:00\", \"followersCount\": 5502, \"friendsCount\": 4887, \"statusesCount\": 180436, \"favouritesCount\": 274770, \"listedCount\": 24, \"mediaCount\": 16644, \"location\": \"Guatemala #Frijolandia \", \"profileImageUrl\": \"https://pbs.twimg.com/profile_images/1810923178228609024/mXrBHHnl_normal.jpg\", \"profileBannerUrl\": \"https://pbs.twimg.com/profile_banners/976875408/1706033530\", \"protected\": null, \"verified\": false, \"blue\": false, \"blueType\": null, \"descriptionLinks\": [], \"pinnedIds\": [1794803010935431533], \"_type\": \"snscrape.modules.twitter.User\"}, \"lang\": \"es\", \"rawContent\": \"La corrupci\\u00f3n de la @CC_Guatemala\\nes descarada, falsificaci\\u00f3n de documentos y obligaron a extenderles DPI.\\nhttps://t.co/0J24ZCXJ2c\", \"replyCount\": 0, \"retweetCount\": 56, \"likeCount\": 84, \"quoteCount\": 4, \"bookmarkedCount\": 1, \"conversationId\": 1834029142565658846, \"conversationIdStr\": \"1834029142565658846\", \"hashtags\": [], \"cashtags\": [], \"mentionedUsers\": [{\"id\": 783345301256073216, \"id_str\": \"783345301256073216\", \"username\": \"CC_Guatemala\", \"displayname\": \"CC Guatemala\", \"_type\": \"snscrape.modules.twitter.UserRef\"}], \"links\": [{\"url\": \"https://www.prensalibre.com/guatemala/justicia/la-corte-de-constitucionalidad-ordena-al-renap-que-le-extienda-dpi-a-la-familia-rusa-bitkov-condenados-por-uso-de-documentos-falsos-breaking/\", \"text\": \"prensalibre.com/guatemala/just\\u2026\", \"tcourl\": \"https://t.co/0J24ZCXJ2c\"}], \"viewCount\": 1587, \"retweetedTweet\": null, \"quotedTweet\": null, \"place\": null, \"coordinates\": null, \"inReplyToTweetId\": null, \"inReplyToTweetIdStr\": null, \"inReplyToUser\": null, \"source\": \"<a href=\\\"http://twitter.com/download/android\\\" rel=\\\"nofollow\\\">Twitter for Android</a>\", \"sourceUrl\": \"http://twitter.com/download/android\", \"sourceLabel\": \"Twitter for Android\", \"media\": {\"photos\": [], \"videos\": [], \"animated\": []}, \"card\": {\"title\": \"La Corte de Constitucionalidad ordena al Renap que le extienda DPI a la familia rusa Bitkov,...\", \"description\": \"El Registro Nacional de las Personas (Renap) deber\\u00e1 otorgar un C\\u00f3digo \\u00danico de Identificaci\\u00f3n (CUI) y emitir un nuevo Documento Personal de Identidad \\u00a0(DPI) Especial de Mayor de Edad Reconocido Baj\\u2026\", \"vanityUrl\": \"prensalibre.com\", \"url\": \"https://t.co/0J24ZCXJ2c\", \"photo\": {\"url\": \"https://pbs.twimg.com/card_img/1834028955176677377/5aXD1dWE?format=jpg&name=orig\"}, \"video\": null, \"_type\": \"summary\"}, \"_type\": \"snscrape.modules.twitter.Tweet\"}, \"place\": null, \"coordinates\": null, \"inReplyToTweetId\": null, \"inReplyToTweetIdStr\": null, \"inReplyToUser\": null, \"source\": \"<a href=\\\"http://twitter.com/download/android\\\" rel=\\\"nofollow\\\">Twitter for Android</a>\", \"sourceUrl\": \"http://twitter.com/download/android\", \"sourceLabel\": \"Twitter for Android\", \"media\": {\"photos\": [], \"videos\": [], \"animated\": []}, \"card\": null, \"_type\": \"snscrape.modules.twitter.Tweet\"}'], dtype='object')\n",
      "Columnas de tioberny: Index(['{\"id\": 1834281080029110288, \"id_str\": \"1834281080029110288\", \"url\": \"https://x.com/La_ReVoluZzion/status/1834281080029110288\", \"date\": \"2024-09-12 17:21:03+00:00\", \"user\": {\"id\": 1435062946598694914, \"id_str\": \"1435062946598694914\", \"url\": \"https://x.com/La_ReVoluZzion\", \"username\": \"La_ReVoluZzion\", \"displayname\": \"The_ReVoluZZzioN \\ud83e\\udee1\", \"rawDescription\": \"\\u00a1Defensor de los defensores de los DDHH, PRO-LGBTIXXX\\ud83c\\udff3\\ufe0f\\u200d\\ud83c\\udf08 y dem\\u00e1s sub especies!\", \"created\": \"2021-09-07 02:11:21+00:00\", \"followersCount\": 2102, \"friendsCount\": 531, \"statusesCount\": 51984, \"favouritesCount\": 143086, \"listedCount\": 7, \"mediaCount\": 18100, \"location\": \"Cuba \\ud83c\\udde8\\ud83c\\uddfa\", \"profileImageUrl\": \"https://pbs.twimg.com/profile_images/1741646608679268353/M8PgJYKR_normal.jpg\", \"profileBannerUrl\": \"https://pbs.twimg.com/profile_banners/1435062946598694914/1680473492\", \"protected\": null, \"verified\": false, \"blue\": false, \"blueType\": null, \"descriptionLinks\": [], \"pinnedIds\": [1758120995683012760], \"_type\": \"snscrape.modules.twitter.User\"}, \"lang\": \"es\", \"rawContent\": \"_\\nConfirmado Compa\\u00f1eres,\\n\\nEl impuesto por la @usembassyguate,\\n\\u2014Solo cuenta con el pagado apoyo de los @48CantonesToto a trav\\u00e9s de la @USAIDGuate y @UEGuatemala\\n\\n@BArevalodeLeon huye y se esconde del Verdadero Pueblo Guatemalteco.\", \"replyCount\": 0, \"retweetCount\": 0, \"likeCount\": 0, \"quoteCount\": 0, \"bookmarkedCount\": 0, \"conversationId\": 1834281080029110288, \"conversationIdStr\": \"1834281080029110288\", \"hashtags\": [], \"cashtags\": [], \"mentionedUsers\": [{\"id\": 23664866, \"id_str\": \"23664866\", \"username\": \"usembassyguate\", \"displayname\": \"US Embassy Guatemala\", \"_type\": \"snscrape.modules.twitter.UserRef\"}, {\"id\": 1001171061831020545, \"id_str\": \"1001171061831020545\", \"username\": \"48CantonesToto\", \"displayname\": \"48 Cantones Oficial\", \"_type\": \"snscrape.modules.twitter.UserRef\"}, {\"id\": 262691982, \"id_str\": \"262691982\", \"username\": \"USAIDGuate\", \"displayname\": \"USAID Guatemala\", \"_type\": \"snscrape.modules.twitter.UserRef\"}, {\"id\": 1362391326, \"id_str\": \"1362391326\", \"username\": \"UEGuatemala\", \"displayname\": \"Uni\\u00f3n Europea en Guatemala\", \"_type\": \"snscrape.modules.twitter.UserRef\"}, {\"id\": 945378369818058752, \"id_str\": \"945378369818058752\", \"username\": \"BArevalodeLeon\", \"displayname\": \"Bernardo Ar\\u00e9valo\", \"_type\": \"snscrape.modules.twitter.UserRef\"}], \"links\": [], \"viewCount\": null, \"retweetedTweet\": null, \"quotedTweet\": {\"id\": 1834252464092069901, \"id_str\": \"1834252464092069901\", \"url\": \"https://x.com/XelaNewsGt/status/1834252464092069901\", \"date\": \"2024-09-12 15:27:20+00:00\", \"user\": {\"id\": 956650778634145792, \"id_str\": \"956650778634145792\", \"url\": \"https://x.com/XelaNewsGt\", \"username\": \"XelaNewsGt\", \"displayname\": \"XelaNews\", \"rawDescription\": \"Noticias sin injerencias.\", \"created\": \"2018-01-25 22:11:34+00:00\", \"followersCount\": 3462, \"friendsCount\": 359, \"statusesCount\": 2915, \"favouritesCount\": 5717, \"listedCount\": 3, \"mediaCount\": 1132, \"location\": \"Guatemala\", \"profileImageUrl\": \"https://pbs.twimg.com/profile_images/1795602273034199040/B_YZsc0K_normal.jpg\", \"profileBannerUrl\": \"https://pbs.twimg.com/profile_banners/956650778634145792/1704817554\", \"protected\": null, \"verified\": false, \"blue\": false, \"blueType\": null, \"descriptionLinks\": [], \"pinnedIds\": [], \"_type\": \"snscrape.modules.twitter.User\"}, \"lang\": \"es\", \"rawContent\": \"#URGENTE Lo que los medios #faferos no informaron ayer, acerca de la visita del presidente #BernardoAr\\u00e9valo a #NebajQuich\\u00e9, donde fue sacado a toda prisa por #SAAS ya que  manifestantes ped\\u00edan ser escuchados por el mandatario, quien decidi\\u00f3 huir de esta manera.\\n#XelaNews \\ud83c\\uddeb\\ud83c\\uddf7 https://t.co/UQQbnvlfTa\", \"replyCount\": 12, \"retweetCount\": 80, \"likeCount\": 142, \"quoteCount\": 15, \"bookmarkedCount\": 10, \"conversationId\": 1834252464092069901, \"conversationIdStr\": \"1834252464092069901\", \"hashtags\": [\"URGENTE\", \"faferos\", \"BernardoAr\\u00e9valo\", \"NebajQuich\\u00e9\", \"SAAS\", \"XelaNews\"], \"cashtags\": [], \"mentionedUsers\": [], \"links\": [], \"viewCount\": 5200, \"retweetedTweet\": null, \"quotedTweet\": null, \"place\": null, \"coordinates\": null, \"inReplyToTweetId\": null, \"inReplyToTweetIdStr\": null, \"inReplyToUser\": null, \"source\": \"<a href=\\\"https://mobile.twitter.com\\\" rel=\\\"nofollow\\\">Twitter Web App</a>\", \"sourceUrl\": \"https://mobile.twitter.com\", \"sourceLabel\": \"Twitter Web App\", \"media\": {\"photos\": [], \"videos\": [{\"thumbnailUrl\": \"https://pbs.twimg.com/ext_tw_video_thumb/1834251047067336704/pu/img/G5OBbEag4Ia9XjV8.jpg\", \"variants\": [{\"contentType\": \"video/mp4\", \"bitrate\": 256000, \"url\": \"https://video.twimg.com/ext_tw_video/1834251047067336704/pu/vid/avc1/480x270/A6PltNzh5wADruCV.mp4?tag=12\"}, {\"contentType\": \"video/mp4\", \"bitrate\": 832000, \"url\": \"https://video.twimg.com/ext_tw_video/1834251047067336704/pu/vid/avc1/640x360/r4dgFMAS7UmJH7Sq.mp4?tag=12\"}, {\"contentType\": \"video/mp4\", \"bitrate\": 2176000, \"url\": \"https://video.twimg.com/ext_tw_video/1834251047067336704/pu/vid/avc1/1280x720/uQimLwqwxzqBctLM.mp4?tag=12\"}], \"duration\": 104904, \"views\": null}], \"animated\": []}, \"card\": null, \"_type\": \"snscrape.modules.twitter.Tweet\"}, \"place\": null, \"coordinates\": null, \"inReplyToTweetId\": null, \"inReplyToTweetIdStr\": null, \"inReplyToUser\": null, \"source\": \"<a href=\\\"http://twitter.com/download/android\\\" rel=\\\"nofollow\\\">Twitter for Android</a>\", \"sourceUrl\": \"http://twitter.com/download/android\", \"sourceLabel\": \"Twitter for Android\", \"media\": {\"photos\": [], \"videos\": [], \"animated\": []}, \"card\": null, \"_type\": \"snscrape.modules.twitter.Tweet\"}'], dtype='object')\n"
     ]
    }
   ],
   "source": [
    "import pandas as pd\n",
    "import chardet  # Para detectar la codificación\n",
    "\n",
    "# Detectar la codificación del archivo\n",
    "def detectar_codificacion(file_path):\n",
    "    with open(file_path, 'rb') as file:\n",
    "        result = chardet.detect(file.read())\n",
    "    return result['encoding']\n",
    "\n",
    "def cargar_archivo(file_path):\n",
    "    encoding_detectada = detectar_codificacion(file_path)\n",
    "    print(f'Codificación detectada para {file_path}: {encoding_detectada}')\n",
    "    return pd.read_csv(file_path, delimiter='\\t', encoding=encoding_detectada)\n",
    "\n",
    "traficogt = cargar_archivo('traficogt.txt')\n",
    "tioberny = cargar_archivo('tioberny.txt')\n",
    "print(\"Columnas de traficogt:\", traficogt.columns)\n",
    "print(\"Columnas de tioberny:\", tioberny.columns)\n"
   ]
  },
  {
   "cell_type": "code",
   "execution_count": 10,
   "metadata": {},
   "outputs": [
    {
     "name": "stderr",
     "output_type": "stream",
     "text": [
      "[nltk_data] Downloading package punkt to\n",
      "[nltk_data]     C:\\Users\\marce\\AppData\\Roaming\\nltk_data...\n",
      "[nltk_data]   Package punkt is already up-to-date!\n",
      "[nltk_data] Downloading package stopwords to\n",
      "[nltk_data]     C:\\Users\\marce\\AppData\\Roaming\\nltk_data...\n",
      "[nltk_data]   Package stopwords is already up-to-date!\n"
     ]
    },
    {
     "data": {
      "text/plain": [
       "True"
      ]
     },
     "execution_count": 10,
     "metadata": {},
     "output_type": "execute_result"
    }
   ],
   "source": [
    "import nltk\n",
    "nltk.download('punkt')\n",
    "nltk.download('stopwords')\n"
   ]
  },
  {
   "cell_type": "code",
   "execution_count": 13,
   "metadata": {},
   "outputs": [
    {
     "name": "stdout",
     "output_type": "stream",
     "text": [
      "Línea 5605 no es un JSON válido, omitiendo...\n",
      "Ejemplos de tweets limpiados de traficogt:\n",
      "                                          rawContent  \\\n",
      "0  Es comprensible la resolución... El ruso sabe ...   \n",
      "1  La corrupción de la @CC_Guatemala\\nes descarad...   \n",
      "2  @PNCdeGuatemala @mingobguate @FJimenezmingob @...   \n",
      "3  @amilcarmontejo @AztecaNoticiaGT @BancadaSemil...   \n",
      "4  @soy_502 @AztecaNoticiaGT @CONAPgt @DenunciaEM...   \n",
      "\n",
      "                                        cleaned_text  \n",
      "0  es comprensible resolución ruso sabe engrasar ...  \n",
      "1  corrupción es descarada falsificación document...  \n",
      "2                                                     \n",
      "3                                                     \n",
      "4  urgente zona deterioro tala inmoderada tráfico...  \n",
      "\n",
      "Ejemplos de tweets limpiados de tioberny:\n",
      "                                          rawContent  \\\n",
      "0  _\\nConfirmado Compañeres,\\n\\nEl impuesto por l...   \n",
      "1  #URGENTE Lo que los medios #faferos no informa...   \n",
      "2  @IvanDuque @BArevalodeLeon Con que usaste PEGA...   \n",
      "3  @IvanDuque @BArevalodeLeon Entre Ellos se enti...   \n",
      "4  El presidente @BArevalodeLeon y la vicepreside...   \n",
      "\n",
      "                                        cleaned_text  \n",
      "0  _ confirmado compañeres impuesto solo cuenta p...  \n",
      "1  urgente medios faferos informaron ayer acerca ...  \n",
      "2  usaste pegasus espiar detractores obra narcisi...  \n",
      "3         entienden bien cuadrando productivareunión  \n",
      "4  presidente vicepresidenta participan sesión so...  \n"
     ]
    }
   ],
   "source": [
    "import pandas as pd\n",
    "import json\n",
    "import re\n",
    "\n",
    "# Lista de stopwords comunes en español\n",
    "stopwords_espanol = [\n",
    "    'de', 'la', 'que', 'el', 'en', 'y', 'a', 'los', 'del', 'se', 'las', 'por',\n",
    "    'un', 'para', 'con', 'no', 'una', 'su', 'al', 'lo', 'como', 'más', 'pero',\n",
    "    'sus', 'le', 'ya', 'o', 'este', 'sí', 'porque', 'esta', 'entre', 'cuando',\n",
    "    'muy', 'sin', 'sobre', 'también', 'me', 'hasta', 'hay', 'donde', 'quien',\n",
    "    'desde', 'todo', 'nos', 'durante', 'todos', 'uno', 'les', 'ni', 'contra',\n",
    "    'otros', 'ese', 'eso', 'ante', 'ellos', 'e', 'esto', 'mí', 'antes', 'algunos',\n",
    "    'qué', 'unos', 'yo', 'otro', 'otras', 'otra', 'él', 'tanto', 'esa', 'estos',\n",
    "    'mucho', 'quienes', 'nada', 'muchos', 'cual', 'poco', 'ella', 'estar', 'estas',\n",
    "    'algunas', 'algo', 'nosotros', 'mi', 'mis', 'tú', 'te', 'ti', 'tu', 'tus',\n",
    "    'ellas', 'nosotras', 'vosotros', 'vosotras', 'os', 'mío', 'mía', 'míos', 'mías',\n",
    "    'tuyo', 'tuya', 'tuyos', 'tuyas', 'suyo', 'suya', 'suyos', 'suyas', 'nuestro',\n",
    "    'nuestra', 'nuestros', 'nuestras', 'vuestro', 'vuestra', 'vuestros', 'vuestras',\n",
    "    'esos', 'esas', 'estoy', 'estás', 'está', 'estamos', 'estáis', 'están', 'esté',\n",
    "    'estés', 'estemos', 'estéis', 'estén', 'estaré', 'estarás', 'estará', 'estaremos',\n",
    "    'estaréis', 'estarán', 'estaría', 'estarías', 'estaríamos', 'estaríais', 'estarían',\n",
    "    'estaba', 'estabas', 'estábamos', 'estabais', 'estaban', 'estuve', 'estuviste',\n",
    "    'estuvo', 'estuvimos', 'estuvisteis', 'estuvieron', 'estuviera', 'estuvieras',\n",
    "    'estuviéramos', 'estuvierais', 'estuvieran', 'estuviese', 'estuvieses',\n",
    "    'estuviésemos', 'estuvieseis', 'estuviesen', 'estando', 'estado', 'estada',\n",
    "    'estados', 'estadas', 'estad'\n",
    "]\n",
    "\n",
    "\n",
    "def clean_text(text):\n",
    "    text = text.lower()\n",
    "    text = re.sub(r'@\\w+', '', text)\n",
    "    text = re.sub(r'http\\S+', '', text)\n",
    "    text = re.sub(r'[^\\w\\s]', '', text)\n",
    "    text = re.sub(r'\\d+', '', text)\n",
    "    words = text.split()\n",
    "    filtered_words = [word for word in words if word not in stopwords_espanol]\n",
    "    return ' '.join(filtered_words)\n",
    "\n",
    "\n",
    "def is_valid_json(line):\n",
    "    try:\n",
    "        json.loads(line)\n",
    "        return True\n",
    "    except json.JSONDecodeError:\n",
    "        return False\n",
    "\n",
    "\n",
    "def cargar_y_limpiar_archivo(file_path):\n",
    "    tweets_limpios = []\n",
    "    with open(file_path, 'r', encoding='utf-16') as file:\n",
    "        for line_number, line in enumerate(file, 1):\n",
    "            if is_valid_json(line):\n",
    "                try:\n",
    "                    tweet = json.loads(line)  N\n",
    "                    raw_content = tweet.get('rawContent', '')  \n",
    "                    if raw_content:\n",
    "                        cleaned_text = clean_text(raw_content) \n",
    "                        tweets_limpios.append({\n",
    "                            'rawContent': raw_content,\n",
    "                            'cleaned_text': cleaned_text\n",
    "                        })\n",
    "                except json.JSONDecodeError as e:\n",
    "                    print(f\"Error decodificando JSON en la línea {line_number}: {e}\")\n",
    "            else:\n",
    "                print(f\"Línea {line_number} no es un JSON válido, omitiendo...\")\n",
    "    return pd.DataFrame(tweets_limpios)\n",
    "\n",
    "traficogt_df = cargar_y_limpiar_archivo('traficogt.txt')\n",
    "tioberny_df = cargar_y_limpiar_archivo('tioberny.txt')\n",
    "\n",
    "\n",
    "traficogt_df.to_csv('traficogt_limpiado.csv', index=False, encoding='utf-8')\n",
    "tioberny_df.to_csv('tioberny_limpiado.csv', index=False, encoding='utf-8')\n",
    "\n",
    "\n",
    "print(\"Ejemplos de tweets limpiados de traficogt:\")\n",
    "print(traficogt_df.head())\n",
    "print(\"\\nEjemplos de tweets limpiados de tioberny:\")\n",
    "print(tioberny_df.head())\n"
   ]
  }
 ],
 "metadata": {
  "kernelspec": {
   "display_name": "Python 3",
   "language": "python",
   "name": "python3"
  },
  "language_info": {
   "codemirror_mode": {
    "name": "ipython",
    "version": 3
   },
   "file_extension": ".py",
   "mimetype": "text/x-python",
   "name": "python",
   "nbconvert_exporter": "python",
   "pygments_lexer": "ipython3",
   "version": "3.12.1"
  }
 },
 "nbformat": 4,
 "nbformat_minor": 2
}
